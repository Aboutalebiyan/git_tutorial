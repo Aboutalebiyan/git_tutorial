{
  "cells": [
    {
      "cell_type": "code",
      "execution_count": 13,
      "metadata": {
        "id": "lIYdn1woOS1n"
      },
      "outputs": [],
      "source": [
        "import re\n",
        "\n",
        "def is_palindrome(phrase):\n",
        "    forwards = ''.join(re.findall(r'[a-z1-9]+', phrase.lower()))\n",
        "    backwards = forwards[::-1]\n",
        "    return forwards == backwards"
      ]
    },
    {
      "cell_type": "code",
      "source": [
        "print(is_palindrome(\"Go hang a salami, I'm a lasagna hog.\"))\n",
        "print(is_palindrome(\"123454321\"))"
      ],
      "metadata": {
        "colab": {
          "base_uri": "https://localhost:8080/"
        },
        "id": "1wDNLVCp9TGW",
        "outputId": "441eeee0-9684-497b-e76e-8aa94b82b626"
      },
      "execution_count": 16,
      "outputs": [
        {
          "output_type": "stream",
          "name": "stdout",
          "text": [
            "True\n",
            "True\n"
          ]
        }
      ]
    }
  ],
  "metadata": {
    "colab": {
      "provenance": []
    },
    "kernelspec": {
      "display_name": "Python 3",
      "name": "python3"
    }
  },
  "nbformat": 4,
  "nbformat_minor": 0
}